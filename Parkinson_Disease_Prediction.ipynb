{
 "cells": [
  {
   "cell_type": "markdown",
   "id": "prospective-engagement",
   "metadata": {},
   "source": [
    "### Brief description of the work\n",
    "\n",
    "the objective of this wok is to predict if a person is affected by the Parkinson's disease or not. Parkinson’s disease  is a slow, progressive, and chronic neurodegenerative disorder. It affects the human central nervous system by destroying dopaminergic neurons which produce dopamine.\n",
    "\n",
    "The disease begins 5 to 10 years before any clinical symptoms appear; at this point, approximately half of the dopaminergic neurons have already disappeared.\n",
    "\n",
    "For that, We propose a data-driven approach for Parkinson’s disease diagnosis. By analysing the signals measured from 8 different locations under each foot (16 signals in total), we extract the different features that describes well the signals ( mean, coefficient of variations, standard deviation ..) and then we apply and compare different machine learning algorithms.    "
   ]
  },
  {
   "cell_type": "code",
   "execution_count": 1,
   "id": "cloudy-apparel",
   "metadata": {},
   "outputs": [],
   "source": [
    "import pandas as pd\n",
    "import os.path\n",
    "from itertools import groupby\n",
    "import numpy as np\n",
    "import matplotlib.pyplot as plt\n",
    "import seaborn as sns"
   ]
  },
  {
   "cell_type": "code",
   "execution_count": 2,
   "id": "lyric-imperial",
   "metadata": {},
   "outputs": [],
   "source": [
    "# Initialize the dataframe to be filled with the 19 calculated features and our target 'class'\n",
    "data = pd.DataFrame(columns=[\"l_mean_stride_time\",\n",
    "                                        \"l_mean_swing_time\",\n",
    "                                        \"l_mean_percentage_swing\",\n",
    "                                        \"r_mean_stride_time\",\n",
    "                                        \"r_mean_swing_time\",\n",
    "                                        \"r_mean_percentage_swing\",\n",
    "                                        \"mean_percentage_double_instance\",\n",
    "                                        \"l_cv_duration_stride\",\n",
    "                                        \"l_cv_duration_swing\",\n",
    "                                        \"l_cv_percentage_swing\",\n",
    "                                        \"r_cv_duration_stride\",\n",
    "                                        \"r_cv_duration_swing\",\n",
    "                                        \"r_cv_percentage_swing\",\n",
    "                                        \"mean_short_swing\",\n",
    "                                        \"CV_short_swing\",\n",
    "                                        \"mean_long_swing\",\n",
    "                                        \"CV_long_swing\",\n",
    "                                        \"mean_gait_asymmetry\",\n",
    "                                        \"CV_gait_asymmetry\",\n",
    "                                        \"class\"])"
   ]
  },
  {
   "cell_type": "markdown",
   "id": "secondary-vocabulary",
   "metadata": {},
   "source": [
    "#### input data\n",
    "different txt files containing each the values obtained from different sensors under each foot for a specific subject (one subject per file). You can find a format.txt file explaining the different file names, columns names .."
   ]
  },
  {
   "cell_type": "code",
   "execution_count": 3,
   "id": "stopped-london",
   "metadata": {},
   "outputs": [],
   "source": [
    "                          # *************** Upload data ***************    \n",
    "    \n",
    "# select dataset Ga / Ju / Si to be able to  work with the 3 different subsets    \n",
    "names = [\"GaCo\", \"GaPt\",\"JuCo\", \"JuPt\",\"SiCo\", \"SiPt\"]\n",
    "target = [0,1]\n",
    "row,all_rows = [],[]\n",
    "\n",
    "for name in names:\n",
    "    for subject in range(1,40,1):\n",
    "        if subject < 10:\n",
    "            file_name = name +str(subject).zfill(2)+ \"_01.txt\"\n",
    "        else:\n",
    "            file_name = name +str(subject)+ \"_01.txt\"\n",
    "        if os.path.exists(file_name):\n",
    "            df = pd.read_csv(file_name, sep= '\\t', engine='python', header=None, names=['Time', 'LxVGRF1', 'LxVGRF2', 'LxVGRF3', 'LxVGRF4', 'LxVGRF5', 'LxVGRF6', 'LxVGRF7', 'LxVGRF8', 'RxVGRF1', 'RxVGRF2', 'RxVGRF3', 'RxVGRF4', 'RxVGRF5', 'RxVGRF6', 'RxVGRF7', 'RxVGRF8', 'Lx Total Force', 'Rx Total Force'])\n",
    "            \n",
    "                        # *************** Data Pre-processing ***************\n",
    "\n",
    "# get the values of the total force under foot\n",
    "            left = df['Lx Total Force'].values\n",
    "            right = df['Rx Total Force'].values\n",
    "\n",
    "# filter Total Force: each value < 50 is considered as swing phase (foot not on the ground)\n",
    "            left[left < 50] = 0\n",
    "            right [right < 50] = 0\n",
    "\n",
    "# split the data into swing(foot not on the ground) and stance(foot on the ground) phases by grouping the forces equal to zero and the forces not equal to zero.\n",
    "            l = [list(group) for key, group in groupby(left, lambda x:x!=0)]\n",
    "            r = [list(g) for k,g in groupby(right, lambda x:x!=0)]\n",
    "\n",
    "\n",
    "                      # *************** Features calculation ***************\n",
    "\n",
    "#calculation of the stride cycle left foot \n",
    "\n",
    "            l_stride_cycle,l_swing,l_stance = [],[],[]\n",
    "            if all([el == 0 for el in l[0]]):\n",
    "                for i in range(1,len(l),2):\n",
    "                    l_stance.append(l[i])\n",
    "                for i in range(2,len(l),2):\n",
    "                    l_swing.append(l[i]) \n",
    "                for element1, element2 in zip(l_stance, l_swing):\n",
    "                    l_stride_cycle.append(element1 + element2)\n",
    "            else:\n",
    "                for i in range(0,len(l),2):\n",
    "                    l_stance.append(l[i])\n",
    "                for i in range(1,len(l),2):\n",
    "                    l_swing.append(l[i]) \n",
    "                for element1, element2 in zip(l_stance, l_swing):\n",
    "                    l_stride_cycle.append(element1 + element2) \n",
    "\n",
    "#calculation of the stride cycle right foot\n",
    "\n",
    "            r_stride_cycle,r_swing,r_stance = [],[],[]\n",
    "            if all([el == 0 for el in r[0]]):\n",
    "                for i in range(1,len(r),2):\n",
    "                    r_stance.append(r[i])\n",
    "                for i in range(2,len(r),2):\n",
    "                    r_swing.append(r[i]) \n",
    "                for element1, element2 in zip(r_stance, r_swing):\n",
    "                    r_stride_cycle.append(element1 + element2)\n",
    "            else:\n",
    "                for i in range(0,len(r),2):\n",
    "                    r_stance.append(r[i])\n",
    "                for i in range(1,len(r),2):\n",
    "                    r_swing.append(r[i]) \n",
    "                for element1, element2 in zip(r_stance, r_swing):\n",
    "                    r_stride_cycle.append(element1 + element2)\n",
    "\n",
    "#Note: to ignore starting and stopping effects, we removed the first stride cycle.\n",
    "#mean/std duration of stride time of the left foot \n",
    "\n",
    "            l_stride_time = []\n",
    "            for element in l_stride_cycle[1:]:\n",
    "                l_stride_time.append(len(element))\n",
    "            l_mean_stride_time = np.mean(l_stride_time)\n",
    "            l_std_stride_time = np.std(l_stride_time)\n",
    "\n",
    "#mean/std duration of stride time of the left foot \n",
    "\n",
    "            r_stride_time = []\n",
    "            for element in r_stride_cycle[1:]:\n",
    "                r_stride_time.append(len(element))\n",
    "            r_mean_stride_time = np.mean(r_stride_time)\n",
    "            r_std_stride_time = np.std(r_stride_time)\n",
    "\n",
    "#mean/std duration of the swing time of the left foot\n",
    "\n",
    "            l_swing_time = []\n",
    "            for element in l_swing[1:]:\n",
    "                l_swing_time.append(len(element))\n",
    "            l_mean_swing_time = np.mean(l_swing_time)\n",
    "            l_std_swing_time = np.std(l_swing_time)\n",
    "\n",
    "#mean/std duration of the swing time of the right foot\n",
    "\n",
    "            r_swing_time = []\n",
    "            for element in r_swing[1:]:\n",
    "                r_swing_time.append(len(element))\n",
    "            r_mean_swing_time = np.mean(r_swing_time)\n",
    "            r_std_swing_time = np.std(r_swing_time)\n",
    "\n",
    "#mean/std duration of the double stance time\n",
    "\n",
    "            s = left*right\n",
    "            double_stance = []\n",
    "            for k,g in groupby(s,lambda x:x!=0):\n",
    "                if k:\n",
    "                    double_stance.append(list(g))\n",
    "\n",
    "            double_stance_time = []\n",
    "            for element in double_stance[1:]:\n",
    "                double_stance_time.append(len(element))\n",
    "\n",
    "            mean_double_stance_time = np.mean(double_stance_time)\n",
    "            std_double_stance_time = np.std(double_stance_time)\n",
    "\n",
    "#The sampling rate was 100 Hz so the period of each measure is 0.01s \n",
    "\n",
    "            l_mean_stride_time=l_mean_stride_time/100\n",
    "            r_mean_stride_time=r_mean_stride_time/100\n",
    "\n",
    "\n",
    "            l_std_stride_time=l_std_stride_time/100\n",
    "            r_std_stride_time=r_std_stride_time/100\n",
    "\n",
    "\n",
    "            l_mean_swing_time=l_mean_swing_time/100\n",
    "            r_mean_swing_time=r_mean_swing_time/100\n",
    "\n",
    "\n",
    "            l_std_swing_time=l_std_swing_time/100\n",
    "            r_std_swing_time=r_std_swing_time/100\n",
    "\n",
    "\n",
    "            mean_double_stance_time=mean_double_stance_time/100\n",
    "            std_double_stance_time=std_double_stance_time/100\n",
    "\n",
    "# mean in percentage of different features can be used as significant features to describe our input signals for each foot\n",
    "# this is the percentage of the feature(swing , stance ..) compared to the whole cycle (stride)\n",
    "\n",
    "            l_mean_percentage_swing = 100 * (l_mean_swing_time / l_mean_stride_time)\n",
    "            r_mean_percentage_swing = 100 * (r_mean_swing_time / r_mean_stride_time)\n",
    "            mean_percentage_double_instance = 100 * (mean_double_stance_time / l_mean_stride_time)\n",
    "\n",
    "# Coefficient of variation of different features is also considered as a useful feature to describe our signal.\n",
    "# The coefficient of variation (CV) is a statistical measure of the dispersion of data points in a data series around the mean.\n",
    "\n",
    "# CV in duration :\n",
    "\n",
    "            l_cv_duration_swing = 100 * (l_std_swing_time / l_mean_swing_time)\n",
    "            l_cv_duration_stride = 100 * (l_std_stride_time / l_mean_stride_time)\n",
    "\n",
    "            r_cv_duration_swing = 100 * (r_std_swing_time / r_mean_swing_time)\n",
    "            r_cv_duration_stride = 100 * (r_std_stride_time / r_mean_stride_time)\n",
    "\n",
    "# CV_in_percentage:\n",
    "\n",
    "            l_percentage_std_swing_time = 100 * (l_std_swing_time / l_std_stride_time)\n",
    "            l_cv_percentage_swing = 100 * (l_percentage_std_swing_time / l_mean_percentage_swing)\n",
    "\n",
    "            r_percentage_std_swing_time = 100 * (r_std_swing_time / r_std_stride_time)\n",
    "            r_cv_percentage_swing = 100 * (r_percentage_std_swing_time / r_mean_percentage_swing)\n",
    "\n",
    "# short/long swing time feature calculation\n",
    "\n",
    "            if (l_mean_swing_time > r_mean_swing_time):\n",
    "                mean_short_swing = r_mean_swing_time\n",
    "                mean_long_swing = l_mean_swing_time\n",
    "                CV_short_swing = 100 * (r_std_swing_time / r_mean_swing_time)\n",
    "                CV_long_swing = 100 * (l_std_swing_time / l_mean_swing_time) \n",
    "            else:\n",
    "                mean_short_swing = l_mean_swing_time\n",
    "                mean_long_swing = r_mean_swing_time\n",
    "                CV_short_swing = 100 * (l_std_swing_time / l_mean_swing_time)\n",
    "                CV_long_swing = 100 * (r_std_swing_time / r_mean_swing_time)\n",
    "\n",
    "# Gait asymmetry feature calculation: it defines the gait balance -> value of 0 implies a perfect gait symmetry, and the more the value is higher the more the degree of gait asymmetry is greater.\n",
    "\n",
    "            mean_gait_asymmetry = abs(np.log(mean_short_swing / mean_long_swing)) * 100\n",
    "            CV_gait_asymmetry = abs(np.log(CV_short_swing / CV_long_swing)) * 100\n",
    "\n",
    "# fill a list wih the calculated features\n",
    "            if \"Co\" in name:\n",
    "                row = [l_mean_stride_time,l_mean_swing_time,l_mean_percentage_swing,r_mean_stride_time,r_mean_swing_time,r_mean_percentage_swing,mean_percentage_double_instance,l_cv_duration_stride,l_cv_duration_swing,l_cv_percentage_swing,\n",
    "                    r_cv_duration_stride,r_cv_duration_swing,r_cv_percentage_swing,mean_short_swing,CV_short_swing,mean_long_swing,CV_long_swing,mean_gait_asymmetry,CV_gait_asymmetry,int(target[0])]\n",
    "            elif \"Pt\" in name:\n",
    "                row = [l_mean_stride_time,l_mean_swing_time,l_mean_percentage_swing,r_mean_stride_time,r_mean_swing_time,r_mean_percentage_swing,mean_percentage_double_instance,l_cv_duration_stride,l_cv_duration_swing,l_cv_percentage_swing,\n",
    "                    r_cv_duration_stride,r_cv_duration_swing,r_cv_percentage_swing,mean_short_swing,CV_short_swing,mean_long_swing,CV_long_swing,mean_gait_asymmetry,CV_gait_asymmetry,target[1]]\n",
    "            \n",
    "            all_rows.append(row)         "
   ]
  },
  {
   "cell_type": "code",
   "execution_count": 4,
   "id": "present-verse",
   "metadata": {},
   "outputs": [
    {
     "name": "stdout",
     "output_type": "stream",
     "text": [
      " the number of rows of our resulted data is: 164\n"
     ]
    }
   ],
   "source": [
    "print(\" the number of rows of our resulted data is:\",len(all_rows))"
   ]
  },
  {
   "cell_type": "code",
   "execution_count": 5,
   "id": "similar-indonesian",
   "metadata": {},
   "outputs": [],
   "source": [
    "#fill the data dataframe with the calculated features and the target\n",
    "for i in range(len(all_rows)):\n",
    "    data.loc[i] = all_rows[i] "
   ]
  },
  {
   "cell_type": "code",
   "execution_count": 6,
   "id": "postal-subscription",
   "metadata": {},
   "outputs": [
    {
     "name": "stdout",
     "output_type": "stream",
     "text": [
      "the resulted data is:\n"
     ]
    },
    {
     "data": {
      "text/html": [
       "<div>\n",
       "<style scoped>\n",
       "    .dataframe tbody tr th:only-of-type {\n",
       "        vertical-align: middle;\n",
       "    }\n",
       "\n",
       "    .dataframe tbody tr th {\n",
       "        vertical-align: top;\n",
       "    }\n",
       "\n",
       "    .dataframe thead th {\n",
       "        text-align: right;\n",
       "    }\n",
       "</style>\n",
       "<table border=\"1\" class=\"dataframe\">\n",
       "  <thead>\n",
       "    <tr style=\"text-align: right;\">\n",
       "      <th></th>\n",
       "      <th>l_mean_stride_time</th>\n",
       "      <th>l_mean_swing_time</th>\n",
       "      <th>l_mean_percentage_swing</th>\n",
       "      <th>r_mean_stride_time</th>\n",
       "      <th>r_mean_swing_time</th>\n",
       "      <th>r_mean_percentage_swing</th>\n",
       "      <th>mean_percentage_double_instance</th>\n",
       "      <th>l_cv_duration_stride</th>\n",
       "      <th>l_cv_duration_swing</th>\n",
       "      <th>l_cv_percentage_swing</th>\n",
       "      <th>r_cv_duration_stride</th>\n",
       "      <th>r_cv_duration_swing</th>\n",
       "      <th>r_cv_percentage_swing</th>\n",
       "      <th>mean_short_swing</th>\n",
       "      <th>CV_short_swing</th>\n",
       "      <th>mean_long_swing</th>\n",
       "      <th>CV_long_swing</th>\n",
       "      <th>mean_gait_asymmetry</th>\n",
       "      <th>CV_gait_asymmetry</th>\n",
       "      <th>class</th>\n",
       "    </tr>\n",
       "  </thead>\n",
       "  <tbody>\n",
       "    <tr>\n",
       "      <th>0</th>\n",
       "      <td>1.262105</td>\n",
       "      <td>0.475368</td>\n",
       "      <td>37.664721</td>\n",
       "      <td>1.221753</td>\n",
       "      <td>0.470928</td>\n",
       "      <td>38.545270</td>\n",
       "      <td>11.676612</td>\n",
       "      <td>15.775443</td>\n",
       "      <td>7.905381</td>\n",
       "      <td>50.111943</td>\n",
       "      <td>10.093845</td>\n",
       "      <td>12.173912</td>\n",
       "      <td>120.607284</td>\n",
       "      <td>0.470928</td>\n",
       "      <td>12.173912</td>\n",
       "      <td>0.475368</td>\n",
       "      <td>7.905381</td>\n",
       "      <td>0.938526</td>\n",
       "      <td>43.175166</td>\n",
       "      <td>0.0</td>\n",
       "    </tr>\n",
       "    <tr>\n",
       "      <th>1</th>\n",
       "      <td>1.142286</td>\n",
       "      <td>0.403238</td>\n",
       "      <td>35.300984</td>\n",
       "      <td>1.114352</td>\n",
       "      <td>0.410185</td>\n",
       "      <td>36.809306</td>\n",
       "      <td>13.728827</td>\n",
       "      <td>21.746347</td>\n",
       "      <td>11.917875</td>\n",
       "      <td>54.804030</td>\n",
       "      <td>14.280155</td>\n",
       "      <td>13.838705</td>\n",
       "      <td>96.908653</td>\n",
       "      <td>0.403238</td>\n",
       "      <td>11.917875</td>\n",
       "      <td>0.410185</td>\n",
       "      <td>13.838705</td>\n",
       "      <td>1.708153</td>\n",
       "      <td>14.943005</td>\n",
       "      <td>0.0</td>\n",
       "    </tr>\n",
       "    <tr>\n",
       "      <th>2</th>\n",
       "      <td>1.272340</td>\n",
       "      <td>0.442021</td>\n",
       "      <td>34.740803</td>\n",
       "      <td>1.262105</td>\n",
       "      <td>0.472211</td>\n",
       "      <td>37.414512</td>\n",
       "      <td>13.803820</td>\n",
       "      <td>16.953000</td>\n",
       "      <td>11.076151</td>\n",
       "      <td>65.334459</td>\n",
       "      <td>9.011868</td>\n",
       "      <td>6.006907</td>\n",
       "      <td>66.655512</td>\n",
       "      <td>0.442021</td>\n",
       "      <td>11.076151</td>\n",
       "      <td>0.472211</td>\n",
       "      <td>6.006907</td>\n",
       "      <td>6.606690</td>\n",
       "      <td>61.188427</td>\n",
       "      <td>0.0</td>\n",
       "    </tr>\n",
       "    <tr>\n",
       "      <th>3</th>\n",
       "      <td>1.249062</td>\n",
       "      <td>0.469896</td>\n",
       "      <td>37.619882</td>\n",
       "      <td>1.253854</td>\n",
       "      <td>0.452917</td>\n",
       "      <td>36.121957</td>\n",
       "      <td>13.058499</td>\n",
       "      <td>6.895821</td>\n",
       "      <td>12.666757</td>\n",
       "      <td>183.687447</td>\n",
       "      <td>6.008491</td>\n",
       "      <td>5.637356</td>\n",
       "      <td>93.823158</td>\n",
       "      <td>0.452917</td>\n",
       "      <td>5.637356</td>\n",
       "      <td>0.469896</td>\n",
       "      <td>12.666757</td>\n",
       "      <td>3.680289</td>\n",
       "      <td>80.956592</td>\n",
       "      <td>0.0</td>\n",
       "    </tr>\n",
       "    <tr>\n",
       "      <th>4</th>\n",
       "      <td>1.070000</td>\n",
       "      <td>0.351161</td>\n",
       "      <td>32.818758</td>\n",
       "      <td>1.051579</td>\n",
       "      <td>0.356842</td>\n",
       "      <td>33.933934</td>\n",
       "      <td>16.408428</td>\n",
       "      <td>13.212818</td>\n",
       "      <td>15.840448</td>\n",
       "      <td>119.886973</td>\n",
       "      <td>4.053333</td>\n",
       "      <td>10.434864</td>\n",
       "      <td>257.439103</td>\n",
       "      <td>0.351161</td>\n",
       "      <td>15.840448</td>\n",
       "      <td>0.356842</td>\n",
       "      <td>10.434864</td>\n",
       "      <td>1.604941</td>\n",
       "      <td>41.741412</td>\n",
       "      <td>0.0</td>\n",
       "    </tr>\n",
       "  </tbody>\n",
       "</table>\n",
       "</div>"
      ],
      "text/plain": [
       "   l_mean_stride_time  l_mean_swing_time  l_mean_percentage_swing  \\\n",
       "0            1.262105           0.475368                37.664721   \n",
       "1            1.142286           0.403238                35.300984   \n",
       "2            1.272340           0.442021                34.740803   \n",
       "3            1.249062           0.469896                37.619882   \n",
       "4            1.070000           0.351161                32.818758   \n",
       "\n",
       "   r_mean_stride_time  r_mean_swing_time  r_mean_percentage_swing  \\\n",
       "0            1.221753           0.470928                38.545270   \n",
       "1            1.114352           0.410185                36.809306   \n",
       "2            1.262105           0.472211                37.414512   \n",
       "3            1.253854           0.452917                36.121957   \n",
       "4            1.051579           0.356842                33.933934   \n",
       "\n",
       "   mean_percentage_double_instance  l_cv_duration_stride  l_cv_duration_swing  \\\n",
       "0                        11.676612             15.775443             7.905381   \n",
       "1                        13.728827             21.746347            11.917875   \n",
       "2                        13.803820             16.953000            11.076151   \n",
       "3                        13.058499              6.895821            12.666757   \n",
       "4                        16.408428             13.212818            15.840448   \n",
       "\n",
       "   l_cv_percentage_swing  r_cv_duration_stride  r_cv_duration_swing  \\\n",
       "0              50.111943             10.093845            12.173912   \n",
       "1              54.804030             14.280155            13.838705   \n",
       "2              65.334459              9.011868             6.006907   \n",
       "3             183.687447              6.008491             5.637356   \n",
       "4             119.886973              4.053333            10.434864   \n",
       "\n",
       "   r_cv_percentage_swing  mean_short_swing  CV_short_swing  mean_long_swing  \\\n",
       "0             120.607284          0.470928       12.173912         0.475368   \n",
       "1              96.908653          0.403238       11.917875         0.410185   \n",
       "2              66.655512          0.442021       11.076151         0.472211   \n",
       "3              93.823158          0.452917        5.637356         0.469896   \n",
       "4             257.439103          0.351161       15.840448         0.356842   \n",
       "\n",
       "   CV_long_swing  mean_gait_asymmetry  CV_gait_asymmetry  class  \n",
       "0       7.905381             0.938526          43.175166    0.0  \n",
       "1      13.838705             1.708153          14.943005    0.0  \n",
       "2       6.006907             6.606690          61.188427    0.0  \n",
       "3      12.666757             3.680289          80.956592    0.0  \n",
       "4      10.434864             1.604941          41.741412    0.0  "
      ]
     },
     "execution_count": 6,
     "metadata": {},
     "output_type": "execute_result"
    }
   ],
   "source": [
    "print(\"the resulted data is:\")\n",
    "data.head()"
   ]
  },
  {
   "cell_type": "code",
   "execution_count": 7,
   "id": "functioning-electronics",
   "metadata": {},
   "outputs": [
    {
     "data": {
      "text/html": [
       "<div>\n",
       "<style scoped>\n",
       "    .dataframe tbody tr th:only-of-type {\n",
       "        vertical-align: middle;\n",
       "    }\n",
       "\n",
       "    .dataframe tbody tr th {\n",
       "        vertical-align: top;\n",
       "    }\n",
       "\n",
       "    .dataframe thead th {\n",
       "        text-align: right;\n",
       "    }\n",
       "</style>\n",
       "<table border=\"1\" class=\"dataframe\">\n",
       "  <thead>\n",
       "    <tr style=\"text-align: right;\">\n",
       "      <th></th>\n",
       "      <th>l_mean_stride_time</th>\n",
       "      <th>l_mean_swing_time</th>\n",
       "      <th>r_mean_stride_time</th>\n",
       "      <th>r_mean_swing_time</th>\n",
       "    </tr>\n",
       "  </thead>\n",
       "  <tbody>\n",
       "    <tr>\n",
       "      <th>0</th>\n",
       "      <td>1.262105</td>\n",
       "      <td>0.475368</td>\n",
       "      <td>1.221753</td>\n",
       "      <td>0.470928</td>\n",
       "    </tr>\n",
       "    <tr>\n",
       "      <th>1</th>\n",
       "      <td>1.142286</td>\n",
       "      <td>0.403238</td>\n",
       "      <td>1.114352</td>\n",
       "      <td>0.410185</td>\n",
       "    </tr>\n",
       "    <tr>\n",
       "      <th>2</th>\n",
       "      <td>1.272340</td>\n",
       "      <td>0.442021</td>\n",
       "      <td>1.262105</td>\n",
       "      <td>0.472211</td>\n",
       "    </tr>\n",
       "    <tr>\n",
       "      <th>3</th>\n",
       "      <td>1.249062</td>\n",
       "      <td>0.469896</td>\n",
       "      <td>1.253854</td>\n",
       "      <td>0.452917</td>\n",
       "    </tr>\n",
       "    <tr>\n",
       "      <th>4</th>\n",
       "      <td>1.070000</td>\n",
       "      <td>0.351161</td>\n",
       "      <td>1.051579</td>\n",
       "      <td>0.356842</td>\n",
       "    </tr>\n",
       "  </tbody>\n",
       "</table>\n",
       "</div>"
      ],
      "text/plain": [
       "   l_mean_stride_time  l_mean_swing_time  r_mean_stride_time  \\\n",
       "0            1.262105           0.475368            1.221753   \n",
       "1            1.142286           0.403238            1.114352   \n",
       "2            1.272340           0.442021            1.262105   \n",
       "3            1.249062           0.469896            1.253854   \n",
       "4            1.070000           0.351161            1.051579   \n",
       "\n",
       "   r_mean_swing_time  \n",
       "0           0.470928  \n",
       "1           0.410185  \n",
       "2           0.472211  \n",
       "3           0.452917  \n",
       "4           0.356842  "
      ]
     },
     "execution_count": 7,
     "metadata": {},
     "output_type": "execute_result"
    }
   ],
   "source": [
    "data[['l_mean_stride_time','l_mean_swing_time', 'r_mean_stride_time','r_mean_swing_time']].head()"
   ]
  },
  {
   "cell_type": "markdown",
   "id": "sufficient-segment",
   "metadata": {},
   "source": [
    "By interpreting the 5 first obtained rows in our resulted dataset, we can confirm its conformity with the real case' values for a person that is not affected with Parkinson's disease (PD)."
   ]
  },
  {
   "cell_type": "code",
   "execution_count": 8,
   "id": "thrown-forward",
   "metadata": {},
   "outputs": [
    {
     "data": {
      "image/png": "[encoded data removed]",
      "text/plain": [
       "<Figure size 432x288 with 1 Axes>"
      ]
     },
     "metadata": {
      "needs_background": "light"
     },
     "output_type": "display_data"
    }
   ],
   "source": [
    "                      # *************** Data visualization ***************\n",
    "data['class'].plot.hist()\n",
    "plt.xlabel('class')\n",
    "plt.title('frequency of class in data')\n",
    "plt.show()"
   ]
  },
  {
   "cell_type": "markdown",
   "id": "available-journey",
   "metadata": {},
   "source": [
    "We can see here that we have almost 93 patients suffering from Parkinson’s disease and 72 healthy subjects which makes our data a balanced one. "
   ]
  },
  {
   "cell_type": "code",
   "execution_count": 9,
   "id": "exclusive-cancellation",
   "metadata": {},
   "outputs": [
    {
     "data": {
      "image/png": "[encoded data removed]",
      "text/plain": [
       "<Figure size 504x360 with 1 Axes>"
      ]
     },
     "metadata": {
      "needs_background": "light"
     },
     "output_type": "display_data"
    }
   ],
   "source": [
    "#l_mean_stride_time per case (0 or 1)\n",
    "subject_lstride_time = data[data['class'] == 0]['l_mean_stride_time']\n",
    "PD_patient_lstride_time = data[data['class'] == 1]['l_mean_stride_time']\n",
    "\n",
    "# Create just a figure and only one subplot\n",
    "fig, ax = plt.subplots(figsize=(7, 5))\n",
    "\n",
    "# Remove top and right border\n",
    "ax.spines['top'].set_visible(False)\n",
    "ax.spines['right'].set_visible(False)\n",
    "ax.spines['left'].set_visible(False)\n",
    "\n",
    "# Remove y-axis tick marks\n",
    "ax.yaxis.set_ticks_position('none')\n",
    "\n",
    "# Add major gridlines in the y-axis\n",
    "ax.grid(color='grey', axis='y', linestyle='-', linewidth=0.75,alpha=0.5)\n",
    "\n",
    "# Set plot title\n",
    "ax.set_title('Distribution of left stride time per class')\n",
    "\n",
    "# Set the data and labels for the boxplot\n",
    "dataset = [subject_lstride_time, PD_patient_lstride_time]\n",
    "labels = ['Control Subject', 'PD patient']\n",
    "ax.boxplot(dataset, labels=labels)\n",
    "\n",
    "plt.show()"
   ]
  },
  {
   "cell_type": "markdown",
   "id": "pressed-cardiff",
   "metadata": {},
   "source": [
    "By comparing the box plots, we can notice that PD patients have longer left stride time range compared the the control subjects. \n",
    "\n",
    "Also, both plots present some outliers but the PD patient plot's outliers are more remarquable and away from the max of the set values."
   ]
  },
  {
   "cell_type": "code",
   "execution_count": 10,
   "id": "dated-chaos",
   "metadata": {},
   "outputs": [
    {
     "data": {
      "image/png": "[encoded data removed]",
      "text/plain": [
       "<Figure size 504x360 with 1 Axes>"
      ]
     },
     "metadata": {
      "needs_background": "light"
     },
     "output_type": "display_data"
    }
   ],
   "source": [
    "#r_mean_stride_time per case (0 or 1)\n",
    "subject_rstride_time = data[data['class'] == 0]['r_mean_stride_time']\n",
    "PD_patient_rstride_time = data[data['class'] == 1]['r_mean_stride_time']\n",
    "\n",
    "# Create just a figure and only one subplot\n",
    "fig, ax = plt.subplots(figsize=(7, 5))\n",
    "\n",
    "# Remove top and right border\n",
    "ax.spines['top'].set_visible(False)\n",
    "ax.spines['right'].set_visible(False)\n",
    "ax.spines['left'].set_visible(False)\n",
    "\n",
    "# Remove y-axis tick marks\n",
    "ax.yaxis.set_ticks_position('none')\n",
    "\n",
    "# Add major gridlines in the y-axis\n",
    "ax.grid(color='grey', axis='y', linestyle='-', linewidth=0.75,alpha=0.5)\n",
    "\n",
    "# Set plot title\n",
    "ax.set_title('Distribution of right stride time per class')\n",
    "\n",
    "# Set the data and labels for the boxplot\n",
    "dataset = [subject_rstride_time, PD_patient_rstride_time]\n",
    "labels = ['Control Subject', 'PD patient']\n",
    "ax.boxplot(dataset, labels=labels)\n",
    "\n",
    "plt.show()"
   ]
  },
  {
   "cell_type": "markdown",
   "id": "military-freedom",
   "metadata": {},
   "source": [
    "We can notice that the left and right stride time boxplots for a control subject are similar which is logically acceptable since the gait cycle is symetric. However, it's not the same for PD patient.\n",
    "\n",
    "The outliers of the PD patient's right stride time's box plot are more important and scattered and it has a larger time range than the normal subject"
   ]
  },
  {
   "cell_type": "code",
   "execution_count": 11,
   "id": "exclusive-passion",
   "metadata": {},
   "outputs": [
    {
     "data": {
      "image/png": "[encoded data removed]",
      "text/plain": [
       "<Figure size 504x360 with 1 Axes>"
      ]
     },
     "metadata": {
      "needs_background": "light"
     },
     "output_type": "display_data"
    }
   ],
   "source": [
    "#swing time per case (0 or 1)\n",
    "subject_swing_time = data[data['class'] == 0]['l_mean_swing_time']\n",
    "PD_patient_swing_time = data[data['class'] == 1]['l_mean_swing_time']\n",
    "\n",
    "# Create just a figure and only one subplot\n",
    "fig, ax = plt.subplots(figsize=(7, 5))\n",
    "\n",
    "# Remove top and right border\n",
    "ax.spines['top'].set_visible(False)\n",
    "ax.spines['right'].set_visible(False)\n",
    "ax.spines['left'].set_visible(False)\n",
    "\n",
    "# Remove y-axis tick marks\n",
    "ax.yaxis.set_ticks_position('none')\n",
    "\n",
    "# Add major gridlines in the y-axis\n",
    "ax.grid(color='grey', axis='y', linestyle='-', linewidth=0.75,alpha=0.5)\n",
    "\n",
    "# Set plot title\n",
    "ax.set_title('Distribution of swing time per class')\n",
    "\n",
    "# Set the data and labels for the boxplot\n",
    "dataset = [subject_swing_time, PD_patient_swing_time]\n",
    "labels = ['Control Subject', 'PD patient']\n",
    "ax.boxplot(dataset, labels=labels)\n",
    "\n",
    "plt.show()"
   ]
  },
  {
   "cell_type": "markdown",
   "id": "serial-diesel",
   "metadata": {},
   "source": [
    "We can conclude that swing time range for PD patients is more important and this is shown through the difference in (min, max) in both boxplots."
   ]
  },
  {
   "cell_type": "code",
   "execution_count": 12,
   "id": "color-pixel",
   "metadata": {},
   "outputs": [
    {
     "data": {
      "image/png": "[encoded data removed]",
      "text/plain": [
       "<Figure size 504x360 with 1 Axes>"
      ]
     },
     "metadata": {
      "needs_background": "light"
     },
     "output_type": "display_data"
    }
   ],
   "source": [
    "#double stance time per case (0 or 1)\n",
    "subject_stance_time = data[data['class'] == 0]['mean_percentage_double_instance']\n",
    "PD_patient_stance_time = data[data['class'] == 1]['mean_percentage_double_instance']\n",
    "\n",
    "# Create just a figure and only one subplot\n",
    "fig, ax = plt.subplots(figsize=(7, 5))\n",
    "\n",
    "# Remove top and right border\n",
    "ax.spines['top'].set_visible(False)\n",
    "ax.spines['right'].set_visible(False)\n",
    "ax.spines['left'].set_visible(False)\n",
    "\n",
    "# Remove y-axis tick marks\n",
    "ax.yaxis.set_ticks_position('none')\n",
    "\n",
    "# Add major gridlines in the y-axis\n",
    "ax.grid(color='grey', axis='y', linestyle='-', linewidth=0.75,alpha=0.5)\n",
    "\n",
    "# Set plot title\n",
    "ax.set_title('Distribution of stance time per class')\n",
    "\n",
    "# Set the data and labels for the boxplot\n",
    "dataset = [subject_stance_time, PD_patient_stance_time]\n",
    "labels = ['Control Subject', 'PD patient']\n",
    "ax.boxplot(dataset, labels=labels)\n",
    "\n",
    "plt.show()"
   ]
  },
  {
   "cell_type": "markdown",
   "id": "bacterial-astronomy",
   "metadata": {},
   "source": [
    "As the case of stride and swing time, we can notice that PD patients also have longer double stance time range compared the the control subjects. \n",
    "\n",
    "Also, the control subject boxplot presents one outliers which is approximately close to the max of the box plot. However, the PD patient boxplot presents multiple outliers where some are far away of the max of its boxplot."
   ]
  },
  {
   "cell_type": "code",
   "execution_count": 14,
   "id": "supposed-rochester",
   "metadata": {},
   "outputs": [
    {
     "name": "stdout",
     "output_type": "stream",
     "text": [
      "number of columns before PCA : 19\n",
      "number of columns after PCA : 12\n"
     ]
    }
   ],
   "source": [
    "                      # *************** Features selection ***************\n",
    "    \n",
    "# we apply PCA to our data so that we can select the most relevant features that are the most represntive of our data.\n",
    "\n",
    "X = data[[\"l_mean_stride_time\",\"l_mean_swing_time\",\"l_mean_percentage_swing\",\"r_mean_stride_time\",\"r_mean_swing_time\",\"r_mean_percentage_swing\",\"mean_percentage_double_instance\",\"l_cv_duration_stride\",\"l_cv_duration_swing\",\"l_cv_percentage_swing\",\"r_cv_duration_stride\",\"r_cv_duration_swing\",\"r_cv_percentage_swing\",\"mean_short_swing\",\"CV_short_swing\",\"mean_long_swing\",\"CV_long_swing\",\"mean_gait_asymmetry\",\"CV_gait_asymmetry\"]].values\n",
    "Y = data['class']\n",
    "print(\"number of columns before PCA :\",len(X[0]))\n",
    "\n",
    "from sklearn.decomposition import PCA\n",
    "pca = PCA(n_components=12)\n",
    "X = pca.fit_transform(X)\n",
    "print(\"number of columns after PCA :\",len(X[0]))"
   ]
  },
  {
   "cell_type": "code",
   "execution_count": 15,
   "id": "bulgarian-mozambique",
   "metadata": {},
   "outputs": [
    {
     "name": "stdout",
     "output_type": "stream",
     "text": [
      " first dataset's row after normalization: \n",
      " \n",
      " [-0.88425311  0.4610993   0.04094535 -0.01441412 -0.01031118  0.01946792\n",
      " -0.03065152 -0.04197203 -0.00778347 -0.01428968 -0.01206566 -0.00165464]\n"
     ]
    }
   ],
   "source": [
    "#features normalization\n",
    "\n",
    "from sklearn import preprocessing\n",
    "X = preprocessing.normalize(X)\n",
    "print(\" first dataset's row after normalization: \\n \\n\",X[0])"
   ]
  },
  {
   "cell_type": "code",
   "execution_count": 39,
   "id": "intimate-sellers",
   "metadata": {},
   "outputs": [],
   "source": [
    "                      # ***************  Prediction ***************\n",
    "from sklearn.model_selection import cross_val_score\n",
    "from sklearn.model_selection import cross_val_predict\n",
    "from sklearn.model_selection import KFold\n",
    "from sklearn.linear_model import LogisticRegression\n",
    "from sklearn.neighbors import KNeighborsClassifier\n",
    "from sklearn.ensemble import RandomForestClassifier\n",
    "from sklearn.metrics import confusion_matrix"
   ]
  },
  {
   "cell_type": "code",
   "execution_count": 55,
   "id": "constant-parcel",
   "metadata": {},
   "outputs": [],
   "source": [
    "strategy = KFold(n_splits=5, shuffle=True)\n",
    "metrics = ['accuracy','precision','recall','f1']\n",
    "supervised_models = [LogisticRegression(),KNeighborsClassifier(n_neighbors=5),RandomForestClassifier(n_estimators=100)]"
   ]
  },
  {
   "cell_type": "code",
   "execution_count": 54,
   "id": "least-services",
   "metadata": {},
   "outputs": [
    {
     "name": "stdout",
     "output_type": "stream",
     "text": [
      "\n",
      "\n",
      "         *******************************          \n",
      "               LogisticRegression()               \n",
      "        ******************************* \n",
      "         \n",
      "accuracy 0.5916666666666666\n",
      "precision 0.6026635720601237\n",
      "recall 0.8244815246672832\n",
      "f1 0.6585753000387148\n"
     ]
    },
    {
     "data": {
      "image/png": "[encoded data removed]",
      "text/plain": [
       "<Figure size 432x288 with 2 Axes>"
      ]
     },
     "metadata": {
      "needs_background": "light"
     },
     "output_type": "display_data"
    },
    {
     "name": "stdout",
     "output_type": "stream",
     "text": [
      "\n",
      "\n",
      "         *******************************          \n",
      "              KNeighborsClassifier()              \n",
      "        ******************************* \n",
      "         \n",
      "accuracy 0.5428030303030302\n",
      "precision 0.5767433522191903\n",
      "recall 0.6262823725981621\n",
      "f1 0.5992318534178999\n"
     ]
    },
    {
     "data": {
      "image/png": "[encoded data removed]",
      "text/plain": [
       "<Figure size 432x288 with 2 Axes>"
      ]
     },
     "metadata": {
      "needs_background": "light"
     },
     "output_type": "display_data"
    },
    {
     "name": "stdout",
     "output_type": "stream",
     "text": [
      "\n",
      "\n",
      "         *******************************          \n",
      "             RandomForestClassifier()             \n",
      "        ******************************* \n",
      "         \n",
      "accuracy 0.6892045454545455\n",
      "precision 0.7280873753009975\n",
      "recall 0.7215873015873016\n",
      "f1 0.6935469199173235\n"
     ]
    },
    {
     "data": {
      "image/png": "[encoded data removed]",
      "text/plain": [
       "<Figure size 432x288 with 2 Axes>"
      ]
     },
     "metadata": {
      "needs_background": "light"
     },
     "output_type": "display_data"
    }
   ],
   "source": [
    "for model in supervised_models:\n",
    "    print('\\n')\n",
    "    print(\"*******************************\".center(50))\n",
    "    print(str(model).center(50))\n",
    "    print(\"******************************* \\n\".center(50))\n",
    "    for metric in metrics:\n",
    "        scores = cross_val_score(model,X,Y,scoring = metric,cv=strategy)\n",
    "        print(metric, np.mean(scores))\n",
    "    y_pred = cross_val_predict(model, X, Y, cv=strategy)\n",
    "    conf_mat = confusion_matrix(Y, y_pred)\n",
    "    sns.heatmap(conf_mat,annot = True)\n",
    "    plt.show()"
   ]
  },
  {
   "cell_type": "markdown",
   "id": "desirable-samuel",
   "metadata": {},
   "source": [
    "### when comparing the results of the 3 used models and thier confusions matrices, we can conclude that for a supervised maching learning classification, the random forest model gave us the best results since it predicted highest number of true predictions(true positives and true negatives). In addition, the random forest classication has the highest f_score which indicates good recall and precision scores. "
   ]
  }
 ],
 "metadata": {
  "kernelspec": {
   "display_name": "Python 3",
   "language": "python",
   "name": "python3"
  },
  "language_info": {
   "codemirror_mode": {
    "name": "ipython",
    "version": 3
   },
   "file_extension": ".py",
   "mimetype": "text/x-python",
   "name": "python",
   "nbconvert_exporter": "python",
   "pygments_lexer": "ipython3",
   "version": "3.6.9"
  }
 },
 "nbformat": 4,
 "nbformat_minor": 5
}
